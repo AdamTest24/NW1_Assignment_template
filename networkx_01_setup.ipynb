{
 "cells": [
  {
   "cell_type": "code",
   "execution_count": null,
   "id": "b61b2ed0-90fe-4213-8436-ddc93216f72d",
   "metadata": {},
   "outputs": [],
   "source": [
    "import networkx as nx\n"
   ]
  },
  {
   "cell_type": "markdown",
   "id": "565ec800-432f-4f11-b8a0-63a4b96efe5e",
   "metadata": {},
   "source": [
    "# Create Graph"
   ]
  },
  {
   "cell_type": "code",
   "execution_count": null,
   "id": "c8ad8060-0066-403d-b317-493676b0b65a",
   "metadata": {},
   "outputs": [
    {
     "data": {
      "text/plain": [
       "networkx.classes.graph.Graph"
      ]
     },
     "execution_count": 22,
     "metadata": {},
     "output_type": "execute_result"
    }
   ],
   "source": [
    "graph = nx.Graph()\n",
    "\n",
    "type(graph)\n"
   ]
  },
  {
   "cell_type": "code",
   "execution_count": null,
   "id": "7522cb42-1ca5-44cc-841a-6d698e9bbc0a",
   "metadata": {},
   "outputs": [
    {
     "name": "stdout",
     "output_type": "stream",
     "text": [
      "['Node A', 'Node B', 'Node C']\n"
     ]
    }
   ],
   "source": [
    "graph.add_node('Node A')\n",
    "graph.add_node('Node B')\n",
    "graph.add_node('Node C')\n",
    "\n",
    "print(graph.nodes)\n"
   ]
  },
  {
   "cell_type": "code",
   "execution_count": null,
   "id": "341ae574-6dfa-45eb-9891-3118bc465251",
   "metadata": {},
   "outputs": [
    {
     "data": {
      "text/plain": [
       "NodeView(('Node A', 'Node B', 'Node C'))"
      ]
     },
     "execution_count": 25,
     "metadata": {},
     "output_type": "execute_result"
    }
   ],
   "source": [
    "graph.nodes"
   ]
  },
  {
   "cell_type": "code",
   "execution_count": null,
   "id": "21f66f88-7c5a-489c-a5ca-d7f15ecb4d13",
   "metadata": {},
   "outputs": [
    {
     "data": {
      "text/plain": [
       "3"
      ]
     },
     "execution_count": 24,
     "metadata": {},
     "output_type": "execute_result"
    }
   ],
   "source": [
    "len(graph)"
   ]
  },
  {
   "cell_type": "code",
   "execution_count": null,
   "id": "2dd5d175-1da1-4d52-9148-7cc9e657d772",
   "metadata": {},
   "outputs": [
    {
     "data": {
      "text/plain": [
       "['Node A', 'Node B', 'Node C']"
      ]
     },
     "execution_count": 27,
     "metadata": {},
     "output_type": "execute_result"
    }
   ],
   "source": [
    "list(graph)"
   ]
  },
  {
   "cell_type": "markdown",
   "id": "0d575bdd-fd26-4aa5-981e-454076a5fda4",
   "metadata": {},
   "source": [
    "# Add  Edges\n"
   ]
  },
  {
   "cell_type": "code",
   "execution_count": null,
   "id": "37b13cbe-1443-494c-bd04-4111fcb5858f",
   "metadata": {},
   "outputs": [
    {
     "name": "stdout",
     "output_type": "stream",
     "text": [
      "[('Node A', 'Node C'), ('Node A', 'Node B'), ('Node B', 'Node C')]\n"
     ]
    }
   ],
   "source": [
    "graph.add_edge('Node A', 'Node C')\n",
    "graph.add_edge('Node A', 'Node B')\n",
    "graph.add_edge('Node B', 'Node C')\n",
    "\n",
    "print(graph.edges)\n"
   ]
  },
  {
   "cell_type": "code",
   "execution_count": null,
   "id": "42e5af06-19ae-41db-bc9f-dccd68927870",
   "metadata": {},
   "outputs": [
    {
     "data": {
      "text/plain": [
       "networkx.classes.reportviews.EdgeView"
      ]
     },
     "execution_count": 40,
     "metadata": {},
     "output_type": "execute_result"
    }
   ],
   "source": [
    "type(graph.edges)"
   ]
  },
  {
   "cell_type": "code",
   "execution_count": null,
   "id": "bea21c07-25ae-46e5-bd90-a7695b9c0536",
   "metadata": {},
   "outputs": [
    {
     "data": {
      "text/plain": [
       "('Node A', 'Node C')"
      ]
     },
     "execution_count": 41,
     "metadata": {},
     "output_type": "execute_result"
    }
   ],
   "source": [
    "list(graph.edges)[0]"
   ]
  },
  {
   "cell_type": "code",
   "execution_count": null,
   "id": "ff098aaf-155d-4f76-b6f8-ea44bcab49fa",
   "metadata": {},
   "outputs": [],
   "source": []
  }
 ],
 "metadata": {
  "kernelspec": {
   "display_name": "Python 3 (ipykernel)",
   "language": "python",
   "name": "python3"
  },
  "language_info": {
   "codemirror_mode": {
    "name": "ipython",
    "version": 3
   },
   "file_extension": ".py",
   "mimetype": "text/x-python",
   "name": "python",
   "nbconvert_exporter": "python",
   "pygments_lexer": "ipython3",
   "version": "3.8.11"
  },
  "toc-autonumbering": false
 },
 "nbformat": 4,
 "nbformat_minor": 5
}
