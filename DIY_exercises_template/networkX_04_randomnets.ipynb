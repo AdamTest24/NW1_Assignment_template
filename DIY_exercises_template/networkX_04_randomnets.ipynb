{
 "cells": [
  {
   "cell_type": "code",
   "execution_count": 1,
   "id": "56764b79-a23c-4ec7-9523-adf3c4e129b9",
   "metadata": {},
   "outputs": [],
   "source": [
    "import networkx as nx\n",
    "\n",
    "from matplotlib.pyplot import subplots\n"
   ]
  },
  {
   "cell_type": "code",
   "execution_count": 8,
   "id": "fef8fb44-2c8a-4064-92ed-5f8dc16a4cc6",
   "metadata": {},
   "outputs": [],
   "source": [
    "from numpy.random import randint\n"
   ]
  },
  {
   "cell_type": "markdown",
   "id": "97cb708d-b7fd-458a-9161-f979ff1344a6",
   "metadata": {},
   "source": [
    "# Function `randint`\n",
    "\n",
    "Docstring:\n",
    "randint(low, high=None, size=None, dtype=int)\n",
    "\n",
    "Return random integers from `low` (inclusive) to `high` (exclusive).\n",
    "\n",
    "## Create Random Matrix\n"
   ]
  },
  {
   "cell_type": "code",
   "execution_count": 62,
   "id": "8bce0217-88a2-4c6f-89a4-2379c3dc3cc0",
   "metadata": {},
   "outputs": [
    {
     "name": "stdout",
     "output_type": "stream",
     "text": [
      "[[1 1 1 1 0]\n",
      " [1 0 1 1 0]\n",
      " [0 1 0 0 1]\n",
      " [1 1 0 0 0]\n",
      " [1 1 1 1 1]]\n"
     ]
    }
   ],
   "source": [
    "nodes = 5\n",
    "\n",
    "random_net_1 = randint(0, 2, size=(nodes, nodes))\n",
    "\n",
    "print(random_net_1)\n"
   ]
  },
  {
   "cell_type": "markdown",
   "id": "bbb091b0-fc00-4435-b725-c89edadd6414",
   "metadata": {},
   "source": [
    "## Repeat"
   ]
  },
  {
   "cell_type": "code",
   "execution_count": 24,
   "id": "1fbe6a71-062f-4896-a287-0cf3735a8114",
   "metadata": {},
   "outputs": [
    {
     "name": "stdout",
     "output_type": "stream",
     "text": [
      "[[0 1 1 0 0]\n",
      " [1 0 0 1 0]\n",
      " [1 0 0 0 1]\n",
      " [1 1 0 1 1]\n",
      " [0 1 0 1 0]]\n"
     ]
    }
   ],
   "source": [
    "random_net_2 = randint(0, 2, size=(nodes, nodes))\n",
    "\n",
    "print(random_net_2)\n"
   ]
  },
  {
   "cell_type": "code",
   "execution_count": 25,
   "id": "eb7a7586-47e1-4760-9fe9-557c48839bd4",
   "metadata": {},
   "outputs": [
    {
     "data": {
      "text/plain": [
       "array([[ True,  True,  True, False,  True],\n",
       "       [ True,  True,  True,  True,  True],\n",
       "       [ True, False,  True, False,  True],\n",
       "       [False,  True, False,  True, False],\n",
       "       [ True, False, False,  True, False]])"
      ]
     },
     "execution_count": 25,
     "metadata": {},
     "output_type": "execute_result"
    }
   ],
   "source": [
    "random_net_1 == random_net_2"
   ]
  },
  {
   "cell_type": "markdown",
   "id": "6f1258a0-f54a-4fa0-8a66-5da844fa09e0",
   "metadata": {},
   "source": [
    "## Reset `seed`"
   ]
  },
  {
   "cell_type": "code",
   "execution_count": 26,
   "id": "d50346e2-5580-420c-9a22-d7b22e538205",
   "metadata": {},
   "outputs": [],
   "source": [
    "from numpy.random import seed\n"
   ]
  },
  {
   "cell_type": "code",
   "execution_count": 27,
   "id": "dc2af459-df37-48ff-977b-ce0d8adc6faf",
   "metadata": {},
   "outputs": [
    {
     "name": "stdout",
     "output_type": "stream",
     "text": [
      "[[1 1 0 1 0]\n",
      " [0 0 1 1 1]\n",
      " [1 1 0 0 1]\n",
      " [0 0 0 0 0]\n",
      " [0 0 0 0 1]]\n"
     ]
    }
   ],
   "source": [
    "random_seed = 1234\n",
    "\n",
    "seed(random_seed)\n",
    "\n",
    "random_mat_1 = randint(0, 2, size=(nodes, nodes))\n",
    "\n",
    "print(random_mat_1)\n"
   ]
  },
  {
   "cell_type": "code",
   "execution_count": 28,
   "id": "40ec8223-56ce-4a39-9ab4-f9ab2bc09502",
   "metadata": {},
   "outputs": [
    {
     "data": {
      "text/plain": [
       "array([[ True,  True,  True,  True,  True],\n",
       "       [ True,  True,  True,  True,  True],\n",
       "       [ True,  True,  True,  True,  True],\n",
       "       [ True,  True,  True,  True,  True],\n",
       "       [ True,  True,  True,  True,  True]])"
      ]
     },
     "execution_count": 28,
     "metadata": {},
     "output_type": "execute_result"
    }
   ],
   "source": [
    "seed(random_seed)\n",
    "\n",
    "random_mat_2 = randint(0, 2, size=(nodes, nodes))\n",
    "\n",
    "random_mat_1== random_mat_2"
   ]
  },
  {
   "cell_type": "markdown",
   "id": "7148d7fa-e74e-43a8-bea6-dbab44ad904c",
   "metadata": {},
   "source": [
    "## Pick probabilities "
   ]
  },
  {
   "cell_type": "code",
   "execution_count": 60,
   "id": "27cc4317-afd8-4468-97cb-36008332d341",
   "metadata": {},
   "outputs": [
    {
     "name": "stdout",
     "output_type": "stream",
     "text": [
      "[[1 1 1 1 1]\n",
      " [1 1 1 1 1]\n",
      " [1 1 1 1 1]\n",
      " [1 1 0 1 1]\n",
      " [1 1 0 1 1]]\n"
     ]
    }
   ],
   "source": [
    "from numpy.random import choice\n",
    "\n",
    "seed(random_seed)\n",
    "\n",
    "rand_mat = choice(2, (5,5), p=[0.1, 0.9])\n",
    "\n",
    "print(rand_mat)\n"
   ]
  },
  {
   "cell_type": "markdown",
   "id": "d876b523-c33d-4b5f-baea-15f4223bfdf7",
   "metadata": {},
   "source": [
    "# Draw Network from Matrix"
   ]
  },
  {
   "cell_type": "code",
   "execution_count": 61,
   "id": "820aface-f15a-4bb9-9a7d-bd6f85573544",
   "metadata": {},
   "outputs": [
    {
     "data": {
      "image/png": "[encoded data removed]",
      "text/plain": [
       "<Figure size 432x288 with 1 Axes>"
      ]
     },
     "metadata": {},
     "output_type": "display_data"
    }
   ],
   "source": [
    "random_graph = nx.from_numpy_matrix(rand_mat)\n",
    "\n",
    "layout = nx.spectral_layout(random_graph)\n",
    "\n",
    "nx.draw(random_graph, layout, \n",
    "        node_size=1000, \n",
    "        with_labels=True)\n"
   ]
  },
  {
   "cell_type": "code",
   "execution_count": null,
   "id": "edc52ff4-75f5-4814-8902-14790005bcae",
   "metadata": {},
   "outputs": [],
   "source": []
  }
 ],
 "metadata": {
  "kernelspec": {
   "display_name": "Python 3 (ipykernel)",
   "language": "python",
   "name": "python3"
  },
  "language_info": {
   "codemirror_mode": {
    "name": "ipython",
    "version": 3
   },
   "file_extension": ".py",
   "mimetype": "text/x-python",
   "name": "python",
   "nbconvert_exporter": "python",
   "pygments_lexer": "ipython3",
   "version": "3.8.11"
  }
 },
 "nbformat": 4,
 "nbformat_minor": 5
}
